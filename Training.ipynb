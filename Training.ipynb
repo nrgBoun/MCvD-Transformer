{
 "cells": [
  {
   "cell_type": "code",
   "execution_count": null,
   "metadata": {},
   "outputs": [],
   "source": [
    "import os\n",
    "import numpy as np\n",
    "import matplotlib.pyplot as plt\n",
    "\n",
    "from keras.callbacks import ModelCheckpoint, LearningRateScheduler # type: ignore\n",
    "from sklearn.model_selection import train_test_split\n",
    "\n",
    "from mcvd_transformer.dataset.parser import DataParser\n",
    "from mcvd_transformer.dataset.dataloader import BatchGenerator\n",
    "from mcvd_transformer.utils.objects import CoordinateSystem\n",
    "from mcvd_transformer.model.model import create_model\n",
    "from mcvd_transformer.model.callbacks import lr_scheduler, AdaptiveLossWeight\n",
    "from mcvd_transformer.utils.postprocessing import PostProcessing\n",
    "from mcvd_transformer.utils.evaluator import PerformanceEvaluator\n",
    "\n",
    "EXPERIMENT_NAME = 'MCvD_Transformer'"
   ]
  },
  {
   "cell_type": "markdown",
   "metadata": {},
   "source": [
    "Read MCvD Simulations"
   ]
  },
  {
   "cell_type": "code",
   "execution_count": null,
   "metadata": {},
   "outputs": [],
   "source": [
    "data_parser = DataParser(\"data\", unwanted_folders=[\".git\"], include_prism=True)\n",
    "data_set = data_parser.parse_data()"
   ]
  },
  {
   "cell_type": "markdown",
   "metadata": {},
   "source": [
    "Training Parameters"
   ]
  },
  {
   "cell_type": "code",
   "execution_count": null,
   "metadata": {},
   "outputs": [],
   "source": [
    "batch_size = 64\n",
    "num_epochs = 400\n",
    "\n",
    "data_seed = 1\n",
    "numpy_seed = 10\n",
    "dataloader_seed = 50"
   ]
  },
  {
   "cell_type": "markdown",
   "metadata": {},
   "source": [
    "Split Dataset into Train, Validation and Test Parts"
   ]
  },
  {
   "cell_type": "code",
   "execution_count": null,
   "metadata": {},
   "outputs": [],
   "source": [
    "np.random.seed(numpy_seed)\n",
    "np.random.shuffle(data_set)\n",
    "\n",
    "train_set,test_val_set = train_test_split(data_set, test_size=0.3, random_state=data_seed)\n",
    "val_set,test_set = train_test_split(test_val_set, test_size=0.33, random_state=data_seed)\n",
    "\n",
    "del test_val_set\n",
    "\n",
    "print(f\"Size of Training Set = {len(train_set)}\")\n",
    "print(f\"Size of Validation Set = {len(val_set)}\")\n",
    "print(f\"Size of Test Set = {len(test_set)}\")"
   ]
  },
  {
   "cell_type": "markdown",
   "metadata": {},
   "source": [
    "Create Batch Generators"
   ]
  },
  {
   "cell_type": "code",
   "execution_count": null,
   "metadata": {},
   "outputs": [],
   "source": [
    "training_batch_generator = BatchGenerator(\n",
    "    train_set, \n",
    "    batch_size = batch_size, \n",
    "    coordinate_system = CoordinateSystem.BOTH, \n",
    "    random_rotate = True, \n",
    "    entity_order = \"shuffle\", \n",
    "    zero_padding = 10, \n",
    "    max_shape = True, \n",
    "    shuffle = True, \n",
    "    max_spherical_entity = 15,\n",
    "    flatten = False,\n",
    "    one_absorber_points = 0,\n",
    "    random_seed=dataloader_seed\n",
    ")\n",
    "\n",
    "validation_batch_generator = BatchGenerator(\n",
    "    val_set, \n",
    "    batch_size = batch_size, \n",
    "    coordinate_system = CoordinateSystem.BOTH, \n",
    "    random_rotate = True, \n",
    "    entity_order = \"shuffle\", \n",
    "    zero_padding = 10, \n",
    "    max_shape = True, \n",
    "    shuffle = True, \n",
    "    max_spherical_entity = 15,\n",
    "    flatten = False,\n",
    "    one_absorber_points = 0,\n",
    "    random_seed=dataloader_seed\n",
    ")\n",
    "\n",
    "test_batch_generator = BatchGenerator(\n",
    "    val_set, \n",
    "    batch_size = batch_size, \n",
    "    coordinate_system = CoordinateSystem.BOTH, \n",
    "    random_rotate = True, \n",
    "    entity_order = \"shuffle\", \n",
    "    zero_padding = 10, \n",
    "    max_shape = True, \n",
    "    shuffle = True, \n",
    "    max_spherical_entity = 15,\n",
    "    flatten = False,\n",
    "    one_absorber_points = 0,\n",
    "    random_seed=dataloader_seed\n",
    ")"
   ]
  },
  {
   "cell_type": "markdown",
   "metadata": {},
   "source": [
    "Create Model"
   ]
  },
  {
   "cell_type": "code",
   "execution_count": null,
   "metadata": {},
   "outputs": [],
   "source": [
    "model, alpha, beta = create_model(training_batch_generator[0][0][0].shape[1:], training_batch_generator[0][0][1].shape[1])\n",
    "model.summary()"
   ]
  },
  {
   "cell_type": "markdown",
   "metadata": {},
   "source": [
    "Create Training Callbacks"
   ]
  },
  {
   "cell_type": "code",
   "execution_count": null,
   "metadata": {},
   "outputs": [],
   "source": [
    "# Create Experiment Log Folder\n",
    "os.makedirs('experiments' + os.path.sep + EXPERIMENT_NAME, exist_ok=True)\n",
    "\n",
    "filepath = 'experiments' + os.path.sep + EXPERIMENT_NAME + os.path.sep + 'model.keras'\n",
    "checkpoint = ModelCheckpoint(filepath, monitor='val_cir_max_loss', verbose=1, save_best_only=True, mode='min')\n",
    "callbacks_list = [checkpoint, LearningRateScheduler(lr_scheduler, verbose=0), AdaptiveLossWeight(alpha,beta)]"
   ]
  },
  {
   "cell_type": "markdown",
   "metadata": {},
   "source": [
    "Run Training"
   ]
  },
  {
   "cell_type": "code",
   "execution_count": null,
   "metadata": {},
   "outputs": [],
   "source": [
    "history = model.fit(\n",
    "    training_batch_generator,\n",
    "    epochs = num_epochs,\n",
    "    verbose = 1,\n",
    "    validation_data = validation_batch_generator,\n",
    "    callbacks=callbacks_list\n",
    ")"
   ]
  },
  {
   "cell_type": "code",
   "execution_count": null,
   "metadata": {},
   "outputs": [],
   "source": [
    "plt.plot(history.history['loss'])\n",
    "plt.plot(history.history['val_loss'])\n",
    "\n",
    "plt.title('Model Loss Curve')\n",
    "plt.ylabel('loss')\n",
    "plt.xlabel('epoch')\n",
    "\n",
    "plt.legend(['train', 'val'], loc='upper left')"
   ]
  },
  {
   "cell_type": "markdown",
   "metadata": {},
   "source": [
    "Calculate Performance Metrics"
   ]
  },
  {
   "cell_type": "code",
   "execution_count": null,
   "metadata": {},
   "outputs": [],
   "source": [
    "model.load_weights(filepath)\n",
    "\n",
    "train_error_values = PerformanceEvaluator.create_evaluation_results(\n",
    "    model,\n",
    "    data_set = train_set,\n",
    "    coordinate_system = CoordinateSystem.BOTH,\n",
    "    max_number_of_spherical = 15,\n",
    "    order = \"shuffle\",\n",
    "    path = 'experiments' + os.path.sep + EXPERIMENT_NAME + os.path.sep + \"train_error.json\"\n",
    ")\n",
    "\n",
    "val_error_values = PerformanceEvaluator.create_evaluation_results(\n",
    "    model,\n",
    "    data_set = val_set,\n",
    "    coordinate_system = CoordinateSystem.BOTH,\n",
    "    max_number_of_spherical = 15,\n",
    "    order = \"shuffle\",\n",
    "    path = 'experiments' + os.path.sep + EXPERIMENT_NAME + os.path.sep + \"val_error.json\"\n",
    ")\n",
    "\n",
    "test_error_values = PerformanceEvaluator.create_evaluation_results(\n",
    "    model,\n",
    "    data_set = test_set,\n",
    "    coordinate_system = CoordinateSystem.BOTH,\n",
    "    max_number_of_spherical = 15,\n",
    "    order = \"shuffle\",\n",
    "    path = 'experiments' + os.path.sep + EXPERIMENT_NAME + os.path.sep + \"test_error.json\"\n",
    ")"
   ]
  },
  {
   "cell_type": "markdown",
   "metadata": {},
   "source": [
    "Plot Raw Estimations"
   ]
  },
  {
   "cell_type": "code",
   "execution_count": null,
   "metadata": {},
   "outputs": [],
   "source": [
    "index = 277\n",
    "input_topology = val_set[index].rotate(10,45)\n",
    "\n",
    "input_top,input_num = input_topology.convert_numpy(CoordinateSystem.BOTH,15,\"shuffle\",False)\n",
    "shape,max_value,_ = model.predict([np.expand_dims(input_top,axis=0),np.expand_dims(input_num,axis=0)])\n",
    "\n",
    "prediction = PostProcessing.postprocessing_separate(shape[0],max_value[0])\n",
    "\n",
    "PerformanceEvaluator.time_graph(\n",
    "    time_output_actual = input_topology.time_output,\n",
    "    time_output_predicted_list = [prediction],\n",
    "    legend=[\"Ground Truth\", \"Prediction\"],\n",
    "    image_loc=None,\n",
    "    time_res=1,\n",
    "    expension_ratio=1,\n",
    "    path=None\n",
    ")"
   ]
  },
  {
   "cell_type": "markdown",
   "metadata": {},
   "source": [
    "Visualize Topology"
   ]
  },
  {
   "cell_type": "code",
   "execution_count": null,
   "metadata": {},
   "outputs": [],
   "source": [
    "input_topology.visualize()"
   ]
  }
 ],
 "metadata": {
  "kernelspec": {
   "display_name": "mcvd_transformer",
   "language": "python",
   "name": "python3"
  },
  "language_info": {
   "codemirror_mode": {
    "name": "ipython",
    "version": 3
   },
   "file_extension": ".py",
   "mimetype": "text/x-python",
   "name": "python",
   "nbconvert_exporter": "python",
   "pygments_lexer": "ipython3",
   "version": "3.9.19"
  }
 },
 "nbformat": 4,
 "nbformat_minor": 2
}
